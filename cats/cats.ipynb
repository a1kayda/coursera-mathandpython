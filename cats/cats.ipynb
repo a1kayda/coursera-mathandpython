{
 "cells": [
  {
   "cell_type": "code",
   "execution_count": 1,
   "metadata": {},
   "outputs": [],
   "source": [
    "import numpy as np\n",
    "import re\n",
    "from scipy.spatial.distance import cosine"
   ]
  },
  {
   "cell_type": "code",
   "execution_count": 8,
   "metadata": {},
   "outputs": [
    {
     "name": "stdout",
     "output_type": "stream",
     "text": [
      "[0.9527544408738466, 0.8644738145642124, 0.8951715163278082, 0.7770887149698589, 0.9402385695332803, 0.7327387580875756, 0.9258750683338899, 0.8842724875284311, 0.9055088817476932, 0.8328165362273942, 0.8804771390665607, 0.8396432548525454, 0.8703592552895671, 0.8740118423302576, 0.9442721787424647, 0.8406361854220809, 0.956644501523794, 0.9442721787424647, 0.8885443574849294, 0.8427572744917122, 0.8250364469440588]\n",
      "5\n",
      "[0.9527544408738466, 0.8644738145642124, 0.8951715163278082, 0.7770887149698589, 0.9402385695332803, 1, 0.9258750683338899, 0.8842724875284311, 0.9055088817476932, 0.8328165362273942, 0.8804771390665607, 0.8396432548525454, 0.8703592552895671, 0.8740118423302576, 0.9442721787424647, 0.8406361854220809, 0.956644501523794, 0.9442721787424647, 0.8885443574849294, 0.8427572744917122, 0.8250364469440588]\n"
     ]
    }
   ],
   "source": [
    "path = 'sentences.txt'\n",
    "data = []\n",
    "j = 0\n",
    "i = 0\n",
    "n = 0\n",
    "data_dict = {}\n",
    "with open (path, 'r') as f:\n",
    "    for str in f:\n",
    "        a = re.split('[^a-z]', str.lower())\n",
    "        a = [x for x in a if x != '']\n",
    "        data.append(a)\n",
    "data_list = list(set(sum(data, [])))\n",
    "\n",
    "data_matrix = np.zeros((len(data), len(data_list)))\n",
    "\n",
    "for i in range(np.shape(data_matrix)[0]):\n",
    "    for j in range(np.shape(data_matrix)[1]):\n",
    "        for w in data[i]:\n",
    "            if w == data_list[j]:\n",
    "                n += 1\n",
    "        data_matrix[i, j] = n\n",
    "        n = 0\n",
    "dist = [cosine(data_matrix[0], data_matrix[x]) for x in range(1, np.shape(data_matrix)[0])]\n",
    "solution = []\n",
    "print(dist)\n",
    "print(dist.index(min(dist)))\n",
    "solution.append(dist.index(min(dist))+1)\n",
    "dist[dist.index(min(dist))] = 1\n",
    "print(dist)\n",
    "solution.append(dist.index(min(dist))+1)\n",
    "with open('submission-1.txt', 'w') as f:\n",
    "    f.write ( \"{:d} {:d}\".format(solution[0], solution[1]) )"
   ]
  },
  {
   "cell_type": "code",
   "execution_count": null,
   "metadata": {},
   "outputs": [],
   "source": []
  },
  {
   "cell_type": "code",
   "execution_count": null,
   "metadata": {},
   "outputs": [],
   "source": []
  }
 ],
 "metadata": {
  "kernelspec": {
   "display_name": "Python 3",
   "language": "python",
   "name": "python3"
  },
  "language_info": {
   "codemirror_mode": {
    "name": "ipython",
    "version": 3
   },
   "file_extension": ".py",
   "mimetype": "text/x-python",
   "name": "python",
   "nbconvert_exporter": "python",
   "pygments_lexer": "ipython3",
   "version": "3.7.3"
  }
 },
 "nbformat": 4,
 "nbformat_minor": 4
}
